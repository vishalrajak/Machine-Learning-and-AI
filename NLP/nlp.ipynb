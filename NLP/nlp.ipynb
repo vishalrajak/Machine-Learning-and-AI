{
 "cells": [
  {
   "cell_type": "code",
   "execution_count": null,
   "metadata": {
    "_cell_guid": "b1076dfc-b9ad-4769-8c92-a6c4dae69d19",
    "_uuid": "8f2839f25d086af736a60e9eeb907d3b93b6e0e5"
   },
   "outputs": [],
   "source": [
    "# This Python 3 environment comes with many helpful analytics libraries installed\n",
    "# It is defined by the kaggle/python docker image: https://github.com/kaggle/docker-python\n",
    "# For example, here's several helpful packages to load in \n",
    "\n",
    "import numpy as np # linear algebra\n",
    "import pandas as pd # data processing, CSV file I/O (e.g. pd.read_csv)\n",
    "\n",
    "# Input data files are available in the \"../input/\" directory.\n",
    "# For example, running this (by clicking run or pressing Shift+Enter) will list the files in the input directory\n",
    "\n",
    "import os\n",
    "print(os.listdir(\"../input\"))\n",
    "\n",
    "# Any results you write to the current directory are saved as output."
   ]
  },
  {
   "cell_type": "code",
   "execution_count": null,
   "metadata": {
    "_cell_guid": "79c7e3d0-c299-4dcb-8224-4455121ee9b0",
    "_uuid": "d629ff2d2480ee46fbb7e2d37f6b5fab8052498a"
   },
   "outputs": [],
   "source": [
    "import warnings; \n",
    "warnings.simplefilter('ignore')\n",
    "\n",
    "from sklearn import preprocessing\n",
    "from sklearn.feature_extraction.text import CountVectorizer, TfidfVectorizer\n",
    "from sklearn.model_selection import train_test_split, KFold\n",
    "\n",
    "import matplotlib\n",
    "from matplotlib import pyplot as plt\n",
    "import seaborn as sns\n",
    "%matplotlib inline\n",
    "%config InlineBackend.figure_format = 'retina'"
   ]
  },
  {
   "cell_type": "code",
   "execution_count": null,
   "metadata": {
    "_uuid": "838955f10a75de0cbbe4da3748dbe9380a0edd08",
    "scrolled": true
   },
   "outputs": [],
   "source": [
    "df_review = pd.read_csv(\"../input/employee-reviews/employee_reviews.csv\", sep=',', error_bad_lines=False)"
   ]
  },
  {
   "cell_type": "markdown",
   "metadata": {
    "_uuid": "5b58c6e14957abe61c3e8d9f94e1fbd7e15f2c1b"
   },
   "source": [
    "## Data Cleaning"
   ]
  },
  {
   "cell_type": "code",
   "execution_count": null,
   "metadata": {
    "_uuid": "23bc90827d26f6d338772045f911fb4af6919ce3",
    "scrolled": true
   },
   "outputs": [],
   "source": [
    "df_review.replace(to_replace = 'none', value = np.nan, inplace = True)"
   ]
  },
  {
   "cell_type": "code",
   "execution_count": null,
   "metadata": {
    "_uuid": "f47aae90a97cb96df01bdae939b8a9cc1067fc00"
   },
   "outputs": [],
   "source": [
    "df_review.rename(columns = {'dates':'date'}, inplace = True)"
   ]
  },
  {
   "cell_type": "code",
   "execution_count": null,
   "metadata": {
    "_uuid": "d18a78b1959324a1b202722120d8e7f37740a907"
   },
   "outputs": [],
   "source": [
    "df_copy = df_review.copy()"
   ]
  },
  {
   "cell_type": "code",
   "execution_count": null,
   "metadata": {
    "_uuid": "b6930e65e2ec2ee57d26e1569d3bf2312d48eb2e"
   },
   "outputs": [],
   "source": [
    "df = df_copy.dropna()"
   ]
  },
  {
   "cell_type": "code",
   "execution_count": null,
   "metadata": {
    "_uuid": "ad644f3b5e82f9db901d54850215d2694a82e37a"
   },
   "outputs": [],
   "source": [
    "df.head(1)"
   ]
  },
  {
   "cell_type": "code",
   "execution_count": null,
   "metadata": {
    "_uuid": "22560665c5e46ffc9816f96b9e8514a68b44514c"
   },
   "outputs": [],
   "source": [
    "df.info()"
   ]
  },
  {
   "cell_type": "code",
   "execution_count": null,
   "metadata": {
    "_uuid": "712772bf32983b1ea49bb2fa1c8dc51f0bd8bd0b"
   },
   "outputs": [],
   "source": [
    "df['date'] = df['date'].astype(dtype=np.datetime64, inplace=True)"
   ]
  },
  {
   "cell_type": "code",
   "execution_count": null,
   "metadata": {
    "_uuid": "31d4222750ed5a52b7c42a4974dfcd5b2c3a9030"
   },
   "outputs": [],
   "source": [
    "df['overallratings'] = df['overall-ratings'].astype(dtype=np.float64)\n",
    "df['work-balance-stars'] = df['work-balance-stars'].astype(dtype=np.float64)\n",
    "df['culture-values-stars'] = df['culture-values-stars'].astype(dtype=np.float64)\n",
    "df['carrer-opportunities-stars'] = df['carrer-opportunities-stars'].astype(dtype=np.float64)\n",
    "df['comp-benefit-stars'] = df['comp-benefit-stars'].astype(dtype=np.float64)\n",
    "df['senior-mangemnet-stars'] = df['senior-mangemnet-stars'].astype(dtype=np.float64)"
   ]
  },
  {
   "cell_type": "code",
   "execution_count": null,
   "metadata": {
    "_uuid": "c1b8aebcb2a95c404d2172cc91f7fda0d7fe3aa4"
   },
   "outputs": [],
   "source": [
    "df['is_current_employee'] = df['job-title'].apply(lambda x: 1 if 'Current' in x else 0)\n",
    "df['is_high_Overall'] = df['overall-ratings'].apply(lambda x: 1 if x>3 else 0)\n",
    "df['is_high_worbalance']= df['work-balance-stars'].apply(lambda x: 1 if x >3 else 0)\n",
    "df['is_high_culturevalue']= df['culture-values-stars'].apply(lambda x: 1 if x >3 else 0)\n",
    "df['is_high_careeropp']= df['carrer-opportunities-stars'].apply(lambda x: 1 if x >3 else 0)\n",
    "df['is_high_compbenefit']= df['comp-benefit-stars'].apply(lambda x: 1 if x >3 else 0)\n",
    "df['is_high_srmngmt']= df['senior-mangemnet-stars'].apply(lambda x: 1 if x >3 else 0)"
   ]
  },
  {
   "cell_type": "code",
   "execution_count": null,
   "metadata": {
    "_uuid": "650a9042dd9cfd3741291d8cb321904b450df7a9",
    "scrolled": true
   },
   "outputs": [],
   "source": [
    "sns.factorplot(x = 'overall-ratings', y = 'company',hue= 'is_current_employee', data = df, kind ='box', \\\n",
    "               aspect =2)"
   ]
  },
  {
   "cell_type": "markdown",
   "metadata": {
    "_uuid": "d09644c5141df7d9bb4c55c257817db8f38ea4d1"
   },
   "source": [
    "#### Conclusion: The graph shows that the overall rating is best for Google & Facebook and worst for Netflix. The ex-employees as well as the former employees have given good ratings for both these companies. If we consider the reviews given by the current employees of these two companies, almost all of them fall under 3 to 5 and maximum out of them fall under 4 to 5. Like the dots show, very few of the employees have given 1 or 2."
   ]
  },
  {
   "cell_type": "code",
   "execution_count": null,
   "metadata": {
    "_uuid": "2dd5ebc5e99878110822c844c666c781719a4d7a"
   },
   "outputs": [],
   "source": [
    "sns.factorplot(x = 'work-balance-stars', y = 'company',hue= 'is_current_employee', data = df, kind ='box', \\\n",
    "               aspect =2)"
   ]
  },
  {
   "cell_type": "markdown",
   "metadata": {
    "_uuid": "3a7840ff34985a74e7656b7481dfc7b9dc743f9f"
   },
   "source": [
    "#### Conclusion: The graph shows that the work life balance at Google is the best and at Amazon is the worst so those candidates who are looking out for jobs and prefer good work life balance, should consider other options apart from Amazon"
   ]
  },
  {
   "cell_type": "code",
   "execution_count": null,
   "metadata": {
    "_uuid": "83542d85ea74d907012096e9a09d92e849f7db9d"
   },
   "outputs": [],
   "source": [
    "sns.factorplot(x = 'culture-values-stars', y = 'company', hue= 'is_current_employee', data = df, kind ='box', \\\n",
    "               aspect =2)"
   ]
  },
  {
   "cell_type": "markdown",
   "metadata": {
    "_uuid": "7c306c622477940b4b801c4941eb46db303c8a81"
   },
   "source": [
    "#### Conclusion: The graph shows that the cultural values are the best at Google and Facebook and worst at Amazon and Netflix so those candidates who are looking out for jobs and prefer good cultural values at workplace, should consider other options apart from Amazon & Netflix"
   ]
  },
  {
   "cell_type": "code",
   "execution_count": null,
   "metadata": {
    "_uuid": "fea0fe7522a3de558f95ce45fc432e235b310678"
   },
   "outputs": [],
   "source": [
    "sns.factorplot(x = 'carrer-opportunities-stars', y = 'company', hue= 'is_current_employee', data = df, kind ='box', \\\n",
    "               aspect =2)"
   ]
  },
  {
   "cell_type": "markdown",
   "metadata": {
    "_uuid": "f0b96072b08f9c8cca5a106e0447657dc329a7da"
   },
   "source": [
    "#### Conclusion: The graph shows that the career opportunities are the best at Facebook & Microsoft and worst at Netflix so those candidates who are looking out for jobs and want great career opportunities, should consider other options apart from Netflix"
   ]
  },
  {
   "cell_type": "code",
   "execution_count": null,
   "metadata": {
    "_uuid": "b746e5fcc488cd2351421d9c633436e38c2556f5"
   },
   "outputs": [],
   "source": [
    "sns.factorplot(x = 'comp-benefit-stars', y = 'company', hue= 'is_current_employee', data = df, kind ='box', \\\n",
    "               aspect =2)"
   ]
  },
  {
   "cell_type": "markdown",
   "metadata": {
    "_uuid": "1aed0d9f08d5be4224f0078c309b8af577fc19ad"
   },
   "source": [
    "#### Conclusion: The graph shows that the compensation benefits are the best at Google & Facebook and worst for Apple."
   ]
  },
  {
   "cell_type": "code",
   "execution_count": null,
   "metadata": {
    "_uuid": "6ee0014201e094de7600988c532a7354ad053e08"
   },
   "outputs": [],
   "source": [
    "sns.factorplot(x = 'senior-mangemnet-stars', y = 'company', hue= 'is_current_employee', data = df, kind ='box', \\\n",
    "               aspect =2)"
   ]
  },
  {
   "cell_type": "markdown",
   "metadata": {
    "_uuid": "c1d8b49c8037687be3a596a2b49ef8b4981cb829"
   },
   "source": [
    "#### Conclusion: The graph shows that the senior management is the best at Facebook and worst at Amazon followed by Netflix."
   ]
  },
  {
   "cell_type": "markdown",
   "metadata": {
    "_uuid": "8e70a334b9d95eb4fd85050f4bea2dbb6d992796"
   },
   "source": [
    "## Apart from worklife balance, culture values of organization, career opportunities, senior management, compensation benefits, what is it that the employees find appealing?"
   ]
  },
  {
   "cell_type": "code",
   "execution_count": null,
   "metadata": {
    "_uuid": "edd7b9c0a0d11e0ee75acba22a255ecf53db5b20"
   },
   "outputs": [],
   "source": [
    "import re\n",
    "# Natural Language Tool Kit \n",
    "import nltk  \n",
    "nltk.download('stopwords') \n",
    "# nltk.download('averaged_perceptron_tagger')\n",
    "nltk.download('wordnet')\n",
    "nltk.download('punkt')\n",
    "# to remove stopword \n",
    "from nltk.corpus import stopwords \n",
    "\n",
    "# for Stemming propose  \n",
    "from nltk.stem.porter import PorterStemmer \n",
    "from nltk.stem.snowball import SnowballStemmer\n",
    "from nltk import pos_tag\n",
    "from nltk.stem import WordNetLemmatizer\n",
    "from nltk.corpus import wordnet"
   ]
  },
  {
   "cell_type": "code",
   "execution_count": null,
   "metadata": {
    "_uuid": "cb346db9acdf97836967f9dafe269492c263d7a7"
   },
   "outputs": [],
   "source": [
    "df_review[\"review\"] = df_review[\"pros\"] + ' ' + df_review[\"cons\"] + ' ' + df_review[\"advice-to-mgmt\"]"
   ]
  },
  {
   "cell_type": "code",
   "execution_count": null,
   "metadata": {
    "_uuid": "16a9cc79c34ec6ffc1580054cd3d425e45818b9e"
   },
   "outputs": [],
   "source": [
    "df_review.dropna(how='any',subset=['review'],inplace = True)"
   ]
  },
  {
   "cell_type": "markdown",
   "metadata": {
    "_uuid": "8fadaa7709cab770af7626b129680b49d76fa2c4"
   },
   "source": [
    "###### Defining method to remove non alpha words, changing it to lowercase and removing stopwords"
   ]
  },
  {
   "cell_type": "code",
   "execution_count": null,
   "metadata": {
    "_uuid": "9d2cf459897410944caa7a9d24ac7d8b245d1df2"
   },
   "outputs": [],
   "source": [
    "sw = stopwords.words('english')\n",
    "def clean(text):\n",
    "    \n",
    "    text = re.sub('[^a-zA-Z]', ' ', text)\n",
    "    text = text.lower()\n",
    "    text = text.split()\n",
    "    text = [t for t in text if len(t) > 0]\n",
    "    text = [t for t in text if t not in sw]\n",
    "    text = ' '.join(text)\n",
    "    return text"
   ]
  },
  {
   "cell_type": "markdown",
   "metadata": {
    "_uuid": "ce9e21427ddbc48962803383fc5dbefe653b4a64"
   },
   "source": [
    "###### Defining method to get wordnet for a pos_tag"
   ]
  },
  {
   "cell_type": "code",
   "execution_count": null,
   "metadata": {
    "_uuid": "b2089e73c4fd4adac773495f7f6dc9d9f03d1f50"
   },
   "outputs": [],
   "source": [
    "def get_wordnet_pos(pos_tag):\n",
    "    if pos_tag.startswith('J'):\n",
    "        return wordnet.ADJ\n",
    "    elif pos_tag.startswith('V'):\n",
    "        return wordnet.VERB\n",
    "    elif pos_tag.startswith('N'):\n",
    "        return wordnet.NOUN\n",
    "    elif pos_tag.startswith('R'):\n",
    "        return wordnet.ADV\n",
    "    else:\n",
    "        return wordnet.NOUN"
   ]
  },
  {
   "cell_type": "markdown",
   "metadata": {
    "_uuid": "be148e7afd7485faa339b06004582f039b51a5ce"
   },
   "source": [
    "###### Defining method to lemmatize text"
   ]
  },
  {
   "cell_type": "code",
   "execution_count": null,
   "metadata": {
    "_uuid": "aff3d23b93eec021d0d5974042a03253e39f2242"
   },
   "outputs": [],
   "source": [
    "# ps = PorterStemmer()\n",
    "sw = stopwords.words('english')\n",
    "lemmatizer = WordNetLemmatizer()\n",
    "def lemmatize(text):\n",
    "    text = nltk.word_tokenize(text)\n",
    "    pos_tags = pos_tag(text)\n",
    "    #     text = [ps.stem(word) for word in text if not word in set(sw)]\n",
    "    text = [lemmatizer.lemmatize(t[0], get_wordnet_pos(t[1])) for t in pos_tags]\n",
    "    text = ' '.join(text)\n",
    "    return text"
   ]
  },
  {
   "cell_type": "markdown",
   "metadata": {
    "_uuid": "4db1ffa2bc27179c3316cbf0d9b9306b1c686286"
   },
   "source": [
    "###### Sample clean and lemmatize review of first row"
   ]
  },
  {
   "cell_type": "code",
   "execution_count": null,
   "metadata": {
    "_uuid": "d7a03b1fc1fd8259134b2c6b2781cd50c002995d"
   },
   "outputs": [],
   "source": [
    "clean(df_review.iloc[0].review)"
   ]
  },
  {
   "cell_type": "code",
   "execution_count": null,
   "metadata": {
    "_uuid": "d044fba3f42047b523c1433b82277173f739813f"
   },
   "outputs": [],
   "source": [
    "lemmatize(df_review.iloc[0].review)"
   ]
  },
  {
   "cell_type": "markdown",
   "metadata": {
    "_uuid": "5b3fa6ae37db6760fa28e4ceb869ef172f1acb8d"
   },
   "source": [
    "###### Cleaning and lemmatizing review column of dataframe "
   ]
  },
  {
   "cell_type": "code",
   "execution_count": null,
   "metadata": {
    "_uuid": "8ad45039d90ab918f182fde1c0b2cd3c8fffbe2d"
   },
   "outputs": [],
   "source": [
    "df_review['review_clean'] = df_review['review'].apply(lambda x: clean(x))"
   ]
  },
  {
   "cell_type": "code",
   "execution_count": null,
   "metadata": {
    "_uuid": "efb21894930d2a6b8da062f77e52c7add11e3508"
   },
   "outputs": [],
   "source": [
    "df_review['review_lemmatize'] = df_review['review_clean'].apply(lambda x: lemmatize(x))"
   ]
  },
  {
   "cell_type": "code",
   "execution_count": null,
   "metadata": {
    "_uuid": "07abf9e9ba9303e9e08ff115596cc97a6c50d6e4",
    "scrolled": true
   },
   "outputs": [],
   "source": [
    "df_review.info()"
   ]
  },
  {
   "cell_type": "markdown",
   "metadata": {
    "_uuid": "6f19a8576e1edce6ffb3734ac6d1fa7bc2a04f37"
   },
   "source": [
    "#### Importing Wordcloud package to draw wordcloud"
   ]
  },
  {
   "cell_type": "code",
   "execution_count": null,
   "metadata": {
    "_uuid": "f0fadd623aefc5c250299309e61bebe84dfc5b2e"
   },
   "outputs": [],
   "source": [
    "from wordcloud import WordCloud, STOPWORDS"
   ]
  },
  {
   "cell_type": "code",
   "execution_count": null,
   "metadata": {
    "_uuid": "6dc1e7e68fd16ac257eff5df944177709849a3b2"
   },
   "outputs": [],
   "source": [
    "stopwords = set(STOPWORDS)\n",
    "extras = [\"great\",\"team\",\"work\",\"company\",\"place\",\"good\",\"people\",\"employee\",\"none\",\"make\",\"one\",\"go\",\\\n",
    "         \"day\",\"call\",\"new\",\"come\",\"think\",\"happen\",\"within\",\"look\",\"store\",\"retail\",\"feel\",\\\n",
    "         \"life\",\"sometime\",\"environment\",\"move\",\"keep\",\"still\",\"review\",\"group\",\"year\",\"role\",\\\n",
    "         \"want\",\"try\",\"office\",\"create\",\"look\",\"even\",\"level\",\"many\",\"thing\",\"much\",\"even\",\\\n",
    "         \"hour\",\"year\",\"always\",\"every\",\"things\",\"project\",\"product\",\"need\",\"time\",\"give\",\\\n",
    "          \"take\",\"never\"]\n",
    "stopwords.update(extras)\n",
    "companies = list(df_review.company.unique())\n",
    "for company in companies:\n",
    "    stopwords.add(company)"
   ]
  },
  {
   "cell_type": "markdown",
   "metadata": {
    "_uuid": "a8ca32345de3e4e7098f1a11123d7c660f57f32b"
   },
   "source": [
    "###### defining method to generate wordclouds for each company"
   ]
  },
  {
   "cell_type": "code",
   "execution_count": null,
   "metadata": {
    "_uuid": "032ac59fb32e878c72ea19bada205cdb6adf51af"
   },
   "outputs": [],
   "source": [
    "def wordclouds(df_review,companies):\n",
    "    for company in companies:\n",
    "        temp = df_review.loc[df_review[\"company\"]==company]\n",
    "        text = \" \".join(str(review) for review in temp.review_clean)\n",
    "        # Create and generate a word cloud image:\n",
    "        wordcloud = WordCloud(stopwords = stopwords, collocations = False).generate(text)\n",
    "        # Display the generated image:\n",
    "        plt.imshow(wordcloud, interpolation='bilinear')\n",
    "        plt.axis(\"off\")\n",
    "        plt.title(company.upper())\n",
    "        plt.show()"
   ]
  },
  {
   "cell_type": "markdown",
   "metadata": {
    "_uuid": "23e1b9ecb26f71dc63b493af16e8a4a5cf70fc10"
   },
   "source": [
    "###### calling wordclouds method. Prints wordcloud for each company "
   ]
  },
  {
   "cell_type": "code",
   "execution_count": null,
   "metadata": {
    "_uuid": "3f55af1d837ae5a2792b95b040b905748fea1751"
   },
   "outputs": [],
   "source": [
    "wordclouds(df_review,companies)\n"
   ]
  },
  {
   "cell_type": "markdown",
   "metadata": {
    "_uuid": "1b8b23d6e85a9fdd8f25557d78ffe836ef1cb150"
   },
   "source": [
    "#mmodel training\n"
   ]
  },
  {
   "cell_type": "code",
   "execution_count": null,
   "metadata": {},
   "outputs": [],
   "source": [
    "from sklearn.feature_extraction.text import CountVectorizer\n",
    "\n",
    "### We take most used 2000 words \n",
    "cv = CountVectorizer(max_features=2000)\n",
    "\n",
    "X = cv.fit_transform(result).toarray()\n",
    "X"
   ]
  },
  {
   "cell_type": "code",
   "execution_count": null,
   "metadata": {},
   "outputs": [],
   "source": [
    "y = comment.iloc[:,1].values\n",
    "y"
   ]
  },
  {
   "cell_type": "code",
   "execution_count": null,
   "metadata": {},
   "outputs": [],
   "source": [
    "from sklearn.model_selection import train_test_split\n",
    "X_train, X_test, y_train, y_test = train_test_split(X, y, test_size=0.20, random_state=0)\n",
    "from sklearn.naive_bayes import GaussianNB\n",
    "gnb = GaussianNB()\n",
    "gnb.fit(X_train, y_train)\n",
    "\n",
    "y_pred = gnb.predict(X_test)\n",
    "y_pred\n",
    "\n",
    "from sklearn.metrics import confusion_matrix\n",
    "\n",
    "cm = confusion_matrix(y_test, y_pred)\n",
    "cm"
   ]
  }
 ],
 "metadata": {
  "kernelspec": {
   "display_name": "Python 3",
   "language": "python",
   "name": "python3"
  },
  "language_info": {
   "codemirror_mode": {
    "name": "ipython",
    "version": 3
   },
   "file_extension": ".py",
   "mimetype": "text/x-python",
   "name": "python",
   "nbconvert_exporter": "python",
   "pygments_lexer": "ipython3",
   "version": "3.7.1"
  }
 },
 "nbformat": 4,
 "nbformat_minor": 1
}
